{
 "cells": [
  {
   "cell_type": "markdown",
   "metadata": {},
   "source": [
    "# Getting started with langchain and Open AI\n",
    "Outline:\n",
    "\n",
    "- Setup Langchain, langsmith and Langserve\n",
    "- Use the basic and common component of LagChain, primpt template, models - and output parser\n",
    "- Builds a simple application with langchain\n",
    "- Trace the application with langsmith\n",
    "- serve the application with langserve"
   ]
  },
  {
   "cell_type": "markdown",
   "metadata": {},
   "source": []
  }
 ],
 "metadata": {
  "language_info": {
   "name": "python"
  }
 },
 "nbformat": 4,
 "nbformat_minor": 2
}
