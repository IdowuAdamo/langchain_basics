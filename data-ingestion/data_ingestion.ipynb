{
 "cells": [
  {
   "cell_type": "markdown",
   "metadata": {},
   "source": [
    "# Data Ingestion"
   ]
  },
  {
   "cell_type": "code",
   "execution_count": 1,
   "metadata": {},
   "outputs": [],
   "source": [
    "from langchain_community.document_loaders import TextLoader "
   ]
  },
  {
   "cell_type": "code",
   "execution_count": 11,
   "metadata": {},
   "outputs": [],
   "source": [
    "loader = TextLoader(\"./data/story.txt\") "
   ]
  },
  {
   "cell_type": "code",
   "execution_count": 3,
   "metadata": {},
   "outputs": [],
   "source": [
    "text_document = loader.load() "
   ]
  },
  {
   "cell_type": "code",
   "execution_count": 4,
   "metadata": {},
   "outputs": [
    {
     "data": {
      "text/plain": [
       "[Document(metadata={'source': './story.txt'}, page_content='\\nTitle: The Heartbeat of Africa - A Tale of Nigeria\\n\\nIn the heart of West Africa lies Nigeria, a nation vibrant with color, life, and an indomitable spirit. Known as the \"Giant of Africa,\" this land is home to over 200 million souls, each adding a thread to the rich tapestry of Nigerian culture.\\n\\nLong ago, before the land was called Nigeria, it was a canvas of ancient civilizations. The Nok culture, with its mysterious terracotta sculptures, thrived in the fertile lands around the River Niger, leaving behind whispers of their existence through art that still baffles historians. Further south, the Kingdom of Benin boasted of its art with bronze works so intricate they were unmatched, while in the north, the Hausa city-states and the Kanem-Bornu Empire traded and prospered, their stories echoing through the sands of time.\\n\\nThe arrival of Europeans marked a new chapter. The Portuguese came first, trading with the Benin Kingdom, but soon, the British took control, naming the land Nigeria after the river that seemed to weave through its heart. The amalgamation of the Northern and Southern Protectorates in 1914 by the British colonialists created what we now know as Nigeria, a blend of diverse cultures, languages, and traditions under one flag.\\n\\nIndependence came on October 1, 1960, a dawn of hope, but not without its storms. The unity was tested by the Nigerian Civil War in the late 1960s, when the Eastern Region declared itself Biafra, seeking to secede. The war was tragic, marked by resilience and suffering, ending in 1970 with Biafra\\'s surrender, but the spirit of the people remained unbroken. From the ashes of conflict, Nigeria rebuilt, its spirit reflected in the markets bustling with life, in the laughter of children, and in the festivals that celebrate the myriad of cultures.\\n\\nNigeria\\'s narrative is one of contrasts - of bustling city life in Lagos, the economic and cultural hub where high-rises touch the sky, to the serene landscapes of the Niger Delta, rich with mangroves and the bustling trade of oil and gas. From the savannahs of the north to the lush forests of the south, each region tells a different story, yet all are bound by the shared love for music, dance, and storytelling.\\n\\nNollywood, born from this fertile cultural ground, became Africa\\'s largest film industry, telling tales of love, courage, and the everyday Nigerian life, spreading the country\\'s stories far and wide. Music from Nigeria, particularly Afrobeat and its descendants, has taken the world by storm, with artists like Fela Kuti, Burna Boy, and Wizkid becoming global icons, their rhythms echoing the heartbeat of Nigeria.\\n\\nBut the story of Nigeria is also one of challenges. Corruption, political instability, and the fight against poverty and for equal opportunities for all are ongoing narratives. The insurgency in the North-East by groups like Boko Haram has tested the resilience of its people, yet stories of bravery, community support, and the unyielding spirit of survival emerge from these dark times.\\n\\nIn Nigeria, life is a festival of colors - from the green and white of its flag symbolizing the wealth of its land and peace, to the vibrant attires during cultural festivals like Durbar in the North or the Eyo masquerade in Lagos. It\\'s in the markets where one can hear the symphony of languages, from Yoruba to Igbo, Hausa to Fulani, over 500 tongues weaving a story of unity in diversity.\\n\\nThe future of Nigeria is like a canvas, still being painted with the aspirations of its youth, the ingenuity of its entrepreneurs, and the wisdom of its elders. It\\'s a country of contrasts, of dreams and realities, where every day is an opportunity to write a new chapter in a never-ending story of resilience, creativity, and an undying passion for life.\\n\\nThus, Nigeria continues to beat, a vibrant heart at the center of Africa, a land where every story tells of survival, community, and the endless pursuit of a better tomorrow. ')]"
      ]
     },
     "execution_count": 4,
     "metadata": {},
     "output_type": "execute_result"
    }
   ],
   "source": [
    "text_document"
   ]
  },
  {
   "cell_type": "code",
   "execution_count": 5,
   "metadata": {},
   "outputs": [
    {
     "data": {
      "text/plain": [
       "list"
      ]
     },
     "execution_count": 5,
     "metadata": {},
     "output_type": "execute_result"
    }
   ],
   "source": [
    "type(text_document) "
   ]
  },
  {
   "cell_type": "code",
   "execution_count": 6,
   "metadata": {},
   "outputs": [
    {
     "data": {
      "text/plain": [
       "Document(metadata={'source': './story.txt'}, page_content='\\nTitle: The Heartbeat of Africa - A Tale of Nigeria\\n\\nIn the heart of West Africa lies Nigeria, a nation vibrant with color, life, and an indomitable spirit. Known as the \"Giant of Africa,\" this land is home to over 200 million souls, each adding a thread to the rich tapestry of Nigerian culture.\\n\\nLong ago, before the land was called Nigeria, it was a canvas of ancient civilizations. The Nok culture, with its mysterious terracotta sculptures, thrived in the fertile lands around the River Niger, leaving behind whispers of their existence through art that still baffles historians. Further south, the Kingdom of Benin boasted of its art with bronze works so intricate they were unmatched, while in the north, the Hausa city-states and the Kanem-Bornu Empire traded and prospered, their stories echoing through the sands of time.\\n\\nThe arrival of Europeans marked a new chapter. The Portuguese came first, trading with the Benin Kingdom, but soon, the British took control, naming the land Nigeria after the river that seemed to weave through its heart. The amalgamation of the Northern and Southern Protectorates in 1914 by the British colonialists created what we now know as Nigeria, a blend of diverse cultures, languages, and traditions under one flag.\\n\\nIndependence came on October 1, 1960, a dawn of hope, but not without its storms. The unity was tested by the Nigerian Civil War in the late 1960s, when the Eastern Region declared itself Biafra, seeking to secede. The war was tragic, marked by resilience and suffering, ending in 1970 with Biafra\\'s surrender, but the spirit of the people remained unbroken. From the ashes of conflict, Nigeria rebuilt, its spirit reflected in the markets bustling with life, in the laughter of children, and in the festivals that celebrate the myriad of cultures.\\n\\nNigeria\\'s narrative is one of contrasts - of bustling city life in Lagos, the economic and cultural hub where high-rises touch the sky, to the serene landscapes of the Niger Delta, rich with mangroves and the bustling trade of oil and gas. From the savannahs of the north to the lush forests of the south, each region tells a different story, yet all are bound by the shared love for music, dance, and storytelling.\\n\\nNollywood, born from this fertile cultural ground, became Africa\\'s largest film industry, telling tales of love, courage, and the everyday Nigerian life, spreading the country\\'s stories far and wide. Music from Nigeria, particularly Afrobeat and its descendants, has taken the world by storm, with artists like Fela Kuti, Burna Boy, and Wizkid becoming global icons, their rhythms echoing the heartbeat of Nigeria.\\n\\nBut the story of Nigeria is also one of challenges. Corruption, political instability, and the fight against poverty and for equal opportunities for all are ongoing narratives. The insurgency in the North-East by groups like Boko Haram has tested the resilience of its people, yet stories of bravery, community support, and the unyielding spirit of survival emerge from these dark times.\\n\\nIn Nigeria, life is a festival of colors - from the green and white of its flag symbolizing the wealth of its land and peace, to the vibrant attires during cultural festivals like Durbar in the North or the Eyo masquerade in Lagos. It\\'s in the markets where one can hear the symphony of languages, from Yoruba to Igbo, Hausa to Fulani, over 500 tongues weaving a story of unity in diversity.\\n\\nThe future of Nigeria is like a canvas, still being painted with the aspirations of its youth, the ingenuity of its entrepreneurs, and the wisdom of its elders. It\\'s a country of contrasts, of dreams and realities, where every day is an opportunity to write a new chapter in a never-ending story of resilience, creativity, and an undying passion for life.\\n\\nThus, Nigeria continues to beat, a vibrant heart at the center of Africa, a land where every story tells of survival, community, and the endless pursuit of a better tomorrow. ')"
      ]
     },
     "execution_count": 6,
     "metadata": {},
     "output_type": "execute_result"
    }
   ],
   "source": [
    "text_document[0] "
   ]
  },
  {
   "cell_type": "code",
   "execution_count": 8,
   "metadata": {},
   "outputs": [
    {
     "data": {
      "text/plain": [
       "'\\nTitle: The Heartbeat of Africa - A Tale of Nigeria\\n\\nIn the heart of West Africa lies Nigeria, a nation vibrant with color, life, and an indomitable spirit. Known as the \"Giant of Africa,\" this land is home to over 200 million souls, each adding a thread to the rich tapestry of Nigerian culture.\\n\\nLong ago, before the land was called Nigeria, it was a canvas of ancient civilizations. The Nok culture, with its mysterious terracotta sculptures, thrived in the fertile lands around the River Niger, leaving behind whispers of their existence through art that still baffles historians. Further south, the Kingdom of Benin boasted of its art with bronze works so intricate they were unmatched, while in the north, the Hausa city-states and the Kanem-Bornu Empire traded and prospered, their stories echoing through the sands of time.\\n\\nThe arrival of Europeans marked a new chapter. The Portuguese came first, trading with the Benin Kingdom, but soon, the British took control, naming the land Nigeria after the river that seemed to weave through its heart. The amalgamation of the Northern and Southern Protectorates in 1914 by the British colonialists created what we now know as Nigeria, a blend of diverse cultures, languages, and traditions under one flag.\\n\\nIndependence came on October 1, 1960, a dawn of hope, but not without its storms. The unity was tested by the Nigerian Civil War in the late 1960s, when the Eastern Region declared itself Biafra, seeking to secede. The war was tragic, marked by resilience and suffering, ending in 1970 with Biafra\\'s surrender, but the spirit of the people remained unbroken. From the ashes of conflict, Nigeria rebuilt, its spirit reflected in the markets bustling with life, in the laughter of children, and in the festivals that celebrate the myriad of cultures.\\n\\nNigeria\\'s narrative is one of contrasts - of bustling city life in Lagos, the economic and cultural hub where high-rises touch the sky, to the serene landscapes of the Niger Delta, rich with mangroves and the bustling trade of oil and gas. From the savannahs of the north to the lush forests of the south, each region tells a different story, yet all are bound by the shared love for music, dance, and storytelling.\\n\\nNollywood, born from this fertile cultural ground, became Africa\\'s largest film industry, telling tales of love, courage, and the everyday Nigerian life, spreading the country\\'s stories far and wide. Music from Nigeria, particularly Afrobeat and its descendants, has taken the world by storm, with artists like Fela Kuti, Burna Boy, and Wizkid becoming global icons, their rhythms echoing the heartbeat of Nigeria.\\n\\nBut the story of Nigeria is also one of challenges. Corruption, political instability, and the fight against poverty and for equal opportunities for all are ongoing narratives. The insurgency in the North-East by groups like Boko Haram has tested the resilience of its people, yet stories of bravery, community support, and the unyielding spirit of survival emerge from these dark times.\\n\\nIn Nigeria, life is a festival of colors - from the green and white of its flag symbolizing the wealth of its land and peace, to the vibrant attires during cultural festivals like Durbar in the North or the Eyo masquerade in Lagos. It\\'s in the markets where one can hear the symphony of languages, from Yoruba to Igbo, Hausa to Fulani, over 500 tongues weaving a story of unity in diversity.\\n\\nThe future of Nigeria is like a canvas, still being painted with the aspirations of its youth, the ingenuity of its entrepreneurs, and the wisdom of its elders. It\\'s a country of contrasts, of dreams and realities, where every day is an opportunity to write a new chapter in a never-ending story of resilience, creativity, and an undying passion for life.\\n\\nThus, Nigeria continues to beat, a vibrant heart at the center of Africa, a land where every story tells of survival, community, and the endless pursuit of a better tomorrow. '"
      ]
     },
     "execution_count": 8,
     "metadata": {},
     "output_type": "execute_result"
    }
   ],
   "source": [
    "text_document[0].page_content"
   ]
  },
  {
   "cell_type": "code",
   "execution_count": 10,
   "metadata": {},
   "outputs": [],
   "source": [
    "#text_document[0]['page_content'] "
   ]
  },
  {
   "cell_type": "code",
   "execution_count": 12,
   "metadata": {},
   "outputs": [],
   "source": [
    "# load pdf file\n",
    "from langchain_community.document_loaders import PyPDFLoader"
   ]
  },
  {
   "cell_type": "code",
   "execution_count": 18,
   "metadata": {},
   "outputs": [],
   "source": [
    "#loader = PyPDFLoader(\"./data/The Richest Man in Babylon ( PDFDrive ) - Copy.pdf\")\n",
    "#loader = PyPDFLoader(\"C:\\Code\\sail\\LangChain\\data-ingestion\\data\\The Richest Man in Babylon ( PDFDrive ) - Copy.pdf\")\n",
    "loader = PyPDFLoader(\"./data/Group E assignment.pdf\") "
   ]
  },
  {
   "cell_type": "code",
   "execution_count": 19,
   "metadata": {},
   "outputs": [],
   "source": [
    "docs = loader.load() "
   ]
  },
  {
   "cell_type": "code",
   "execution_count": 20,
   "metadata": {},
   "outputs": [
    {
     "data": {
      "text/plain": [
       "Document(metadata={'source': './data/Group E assignment.pdf', 'page': 0, 'page_label': '1'}, page_content=\"Group E \\nDynamics \\n \\nMULTIPLE CHOICE \\n \\n 1. An elevator car weighs 5500 N. If the car accelerates upwards at a rate of 4.0  \\n, what is the tension in the support cable lifting the car?   Use g = 10 m/s² \\na. 1600 N c. 4400 N \\nb. 3300 N d. 7755 N  \\n \\n \\nANS: D \\nT=F+WT  \\nW=mg \\nRemember,  \\nT=ma + WT \\n \\nPTS: 1 \\n \\n 2. A 600N object is to be given an acceleration of  . How large an unbalanced force must act \\nupon it?  \\na. 57N c. 43N \\nb. 45N d. 20N \\n \\n \\nANS: C \\nF =mg \\nF=ma \\n \\nPTS: 1 \\n \\n 3. When a force acts on an object, it produces acceleration which may be given as a=F/m where F is \\nforce on the object and m is the mass of the object. This is otherwise known as ? \\na. First law of motion c. Third law \\nb. Newton's second law  d. All of the above  \\n \\n \\nANS: B PTS: 1 \\n \\n 4. Consider the skier on a slope(Down).Her mass including equipment is 60.0 kg. What is her \\nacceleration if friction is known to be 45.0 N? \\na.  3.39m/s² c. 6.45m/s² \\nb.  8.13m/s² d. 2.2m/s² \\n \\n \\nANS: A \\nFsinØ - fr = ma \\n \\nPTS: 1 \\n \\n 5. The force that acts on a mass 1g and gives it an acceleration of 1ms-¹ is defined as. \\na. 1 Newton c. 1 pound - force \\nb. 1 dyne d. 1 pa - force  \\n \\n \\nANS: B \\nForce = mass × acceleration.  \\nF = m•a = 0.001kg × 0.01ms-²  \\n\")"
      ]
     },
     "execution_count": 20,
     "metadata": {},
     "output_type": "execute_result"
    }
   ],
   "source": [
    "docs[0] "
   ]
  },
  {
   "cell_type": "code",
   "execution_count": 21,
   "metadata": {},
   "outputs": [
    {
     "data": {
      "text/plain": [
       "list"
      ]
     },
     "execution_count": 21,
     "metadata": {},
     "output_type": "execute_result"
    }
   ],
   "source": [
    "type(docs) "
   ]
  },
  {
   "cell_type": "code",
   "execution_count": 22,
   "metadata": {},
   "outputs": [
    {
     "name": "stderr",
     "output_type": "stream",
     "text": [
      "USER_AGENT environment variable not set, consider setting it to identify your requests.\n"
     ]
    }
   ],
   "source": [
    "# Web based loader\n",
    "from langchain_community.document_loaders import WebBaseLoader\n",
    "import bs4\n",
    "\n",
    "web_loader = WebBaseLoader(web_paths=(\"https://lilianweng.github.io/posts/2023-06-23-agent/\", ),\n",
    "                           bs_kwargs=dict(parse_only=bs4.SoupStrainer(\n",
    "                                   class_ = (\"post-title\", \"post-header\")\n",
    "                           ))) "
   ]
  },
  {
   "cell_type": "code",
   "execution_count": 23,
   "metadata": {},
   "outputs": [
    {
     "data": {
      "text/plain": [
       "[Document(metadata={'source': 'https://lilianweng.github.io/posts/2023-06-23-agent/'}, page_content='\\n\\n      LLM Powered Autonomous Agents\\n    \\nDate: June 23, 2023  |  Estimated Reading Time: 31 min  |  Author: Lilian Weng\\n\\n\\n')]"
      ]
     },
     "execution_count": 23,
     "metadata": {},
     "output_type": "execute_result"
    }
   ],
   "source": [
    "web_loader.load() "
   ]
  },
  {
   "cell_type": "code",
   "execution_count": null,
   "metadata": {},
   "outputs": [],
   "source": []
  }
 ],
 "metadata": {
  "kernelspec": {
   "display_name": "venv",
   "language": "python",
   "name": "python3"
  },
  "language_info": {
   "codemirror_mode": {
    "name": "ipython",
    "version": 3
   },
   "file_extension": ".py",
   "mimetype": "text/x-python",
   "name": "python",
   "nbconvert_exporter": "python",
   "pygments_lexer": "ipython3",
   "version": "3.10.0"
  }
 },
 "nbformat": 4,
 "nbformat_minor": 2
}
